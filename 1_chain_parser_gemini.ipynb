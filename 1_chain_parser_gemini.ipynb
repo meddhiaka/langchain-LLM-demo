{
 "cells": [
  {
   "cell_type": "code",
   "execution_count": 1,
   "id": "9417687e-46c2-4315-89ef-d58b1ddb56a3",
   "metadata": {},
   "outputs": [
    {
     "name": "stdout",
     "output_type": "stream",
     "text": [
      "Requirement already satisfied: langchain-google-genai in ./sys/lib/python3.11/site-packages (1.0.7)\n",
      "Requirement already satisfied: google-generativeai<0.8.0,>=0.7.0 in ./sys/lib/python3.11/site-packages (from langchain-google-genai) (0.7.1)\n",
      "Requirement already satisfied: langchain-core<0.3,>=0.2.9 in ./sys/lib/python3.11/site-packages (from langchain-google-genai) (0.2.11)\n",
      "Requirement already satisfied: google-ai-generativelanguage==0.6.6 in ./sys/lib/python3.11/site-packages (from google-generativeai<0.8.0,>=0.7.0->langchain-google-genai) (0.6.6)\n",
      "Requirement already satisfied: google-api-core in ./sys/lib/python3.11/site-packages (from google-generativeai<0.8.0,>=0.7.0->langchain-google-genai) (2.19.1)\n",
      "Requirement already satisfied: google-api-python-client in ./sys/lib/python3.11/site-packages (from google-generativeai<0.8.0,>=0.7.0->langchain-google-genai) (2.136.0)\n",
      "Requirement already satisfied: google-auth>=2.15.0 in ./sys/lib/python3.11/site-packages (from google-generativeai<0.8.0,>=0.7.0->langchain-google-genai) (2.31.0)\n",
      "Requirement already satisfied: protobuf in ./sys/lib/python3.11/site-packages (from google-generativeai<0.8.0,>=0.7.0->langchain-google-genai) (4.25.3)\n",
      "Requirement already satisfied: pydantic in ./sys/lib/python3.11/site-packages (from google-generativeai<0.8.0,>=0.7.0->langchain-google-genai) (2.8.2)\n",
      "Requirement already satisfied: tqdm in ./sys/lib/python3.11/site-packages (from google-generativeai<0.8.0,>=0.7.0->langchain-google-genai) (4.66.4)\n",
      "Requirement already satisfied: typing-extensions in ./sys/lib/python3.11/site-packages (from google-generativeai<0.8.0,>=0.7.0->langchain-google-genai) (4.12.2)\n",
      "Requirement already satisfied: proto-plus<2.0.0dev,>=1.22.3 in ./sys/lib/python3.11/site-packages (from google-ai-generativelanguage==0.6.6->google-generativeai<0.8.0,>=0.7.0->langchain-google-genai) (1.24.0)\n",
      "Requirement already satisfied: PyYAML>=5.3 in ./sys/lib/python3.11/site-packages (from langchain-core<0.3,>=0.2.9->langchain-google-genai) (6.0.1)\n",
      "Requirement already satisfied: jsonpatch<2.0,>=1.33 in ./sys/lib/python3.11/site-packages (from langchain-core<0.3,>=0.2.9->langchain-google-genai) (1.33)\n",
      "Requirement already satisfied: langsmith<0.2.0,>=0.1.75 in ./sys/lib/python3.11/site-packages (from langchain-core<0.3,>=0.2.9->langchain-google-genai) (0.1.83)\n",
      "Requirement already satisfied: packaging<25,>=23.2 in ./sys/lib/python3.11/site-packages (from langchain-core<0.3,>=0.2.9->langchain-google-genai) (24.1)\n",
      "Requirement already satisfied: tenacity!=8.4.0,<9.0.0,>=8.1.0 in ./sys/lib/python3.11/site-packages (from langchain-core<0.3,>=0.2.9->langchain-google-genai) (8.5.0)\n",
      "Requirement already satisfied: cachetools<6.0,>=2.0.0 in ./sys/lib/python3.11/site-packages (from google-auth>=2.15.0->google-generativeai<0.8.0,>=0.7.0->langchain-google-genai) (5.3.3)\n",
      "Requirement already satisfied: pyasn1-modules>=0.2.1 in ./sys/lib/python3.11/site-packages (from google-auth>=2.15.0->google-generativeai<0.8.0,>=0.7.0->langchain-google-genai) (0.4.0)\n",
      "Requirement already satisfied: rsa<5,>=3.1.4 in ./sys/lib/python3.11/site-packages (from google-auth>=2.15.0->google-generativeai<0.8.0,>=0.7.0->langchain-google-genai) (4.9)\n",
      "Requirement already satisfied: jsonpointer>=1.9 in ./sys/lib/python3.11/site-packages (from jsonpatch<2.0,>=1.33->langchain-core<0.3,>=0.2.9->langchain-google-genai) (3.0.0)\n",
      "Requirement already satisfied: orjson<4.0.0,>=3.9.14 in ./sys/lib/python3.11/site-packages (from langsmith<0.2.0,>=0.1.75->langchain-core<0.3,>=0.2.9->langchain-google-genai) (3.10.6)\n",
      "Requirement already satisfied: requests<3,>=2 in ./sys/lib/python3.11/site-packages (from langsmith<0.2.0,>=0.1.75->langchain-core<0.3,>=0.2.9->langchain-google-genai) (2.32.3)\n",
      "Requirement already satisfied: annotated-types>=0.4.0 in ./sys/lib/python3.11/site-packages (from pydantic->google-generativeai<0.8.0,>=0.7.0->langchain-google-genai) (0.7.0)\n",
      "Requirement already satisfied: pydantic-core==2.20.1 in ./sys/lib/python3.11/site-packages (from pydantic->google-generativeai<0.8.0,>=0.7.0->langchain-google-genai) (2.20.1)\n",
      "Requirement already satisfied: googleapis-common-protos<2.0.dev0,>=1.56.2 in ./sys/lib/python3.11/site-packages (from google-api-core->google-generativeai<0.8.0,>=0.7.0->langchain-google-genai) (1.63.2)\n",
      "Requirement already satisfied: httplib2<1.dev0,>=0.19.0 in ./sys/lib/python3.11/site-packages (from google-api-python-client->google-generativeai<0.8.0,>=0.7.0->langchain-google-genai) (0.22.0)\n",
      "Requirement already satisfied: google-auth-httplib2<1.0.0,>=0.2.0 in ./sys/lib/python3.11/site-packages (from google-api-python-client->google-generativeai<0.8.0,>=0.7.0->langchain-google-genai) (0.2.0)\n",
      "Requirement already satisfied: uritemplate<5,>=3.0.1 in ./sys/lib/python3.11/site-packages (from google-api-python-client->google-generativeai<0.8.0,>=0.7.0->langchain-google-genai) (4.1.1)\n",
      "Requirement already satisfied: grpcio<2.0dev,>=1.33.2 in ./sys/lib/python3.11/site-packages (from google-api-core->google-generativeai<0.8.0,>=0.7.0->langchain-google-genai) (1.64.1)\n",
      "Requirement already satisfied: grpcio-status<2.0.dev0,>=1.33.2 in ./sys/lib/python3.11/site-packages (from google-api-core->google-generativeai<0.8.0,>=0.7.0->langchain-google-genai) (1.62.2)\n",
      "Requirement already satisfied: pyparsing!=3.0.0,!=3.0.1,!=3.0.2,!=3.0.3,<4,>=2.4.2 in ./sys/lib/python3.11/site-packages (from httplib2<1.dev0,>=0.19.0->google-api-python-client->google-generativeai<0.8.0,>=0.7.0->langchain-google-genai) (3.1.2)\n",
      "Requirement already satisfied: pyasn1<0.7.0,>=0.4.6 in ./sys/lib/python3.11/site-packages (from pyasn1-modules>=0.2.1->google-auth>=2.15.0->google-generativeai<0.8.0,>=0.7.0->langchain-google-genai) (0.6.0)\n",
      "Requirement already satisfied: charset-normalizer<4,>=2 in ./sys/lib/python3.11/site-packages (from requests<3,>=2->langsmith<0.2.0,>=0.1.75->langchain-core<0.3,>=0.2.9->langchain-google-genai) (3.3.2)\n",
      "Requirement already satisfied: idna<4,>=2.5 in ./sys/lib/python3.11/site-packages (from requests<3,>=2->langsmith<0.2.0,>=0.1.75->langchain-core<0.3,>=0.2.9->langchain-google-genai) (3.7)\n",
      "Requirement already satisfied: urllib3<3,>=1.21.1 in ./sys/lib/python3.11/site-packages (from requests<3,>=2->langsmith<0.2.0,>=0.1.75->langchain-core<0.3,>=0.2.9->langchain-google-genai) (2.2.2)\n",
      "Requirement already satisfied: certifi>=2017.4.17 in ./sys/lib/python3.11/site-packages (from requests<3,>=2->langsmith<0.2.0,>=0.1.75->langchain-core<0.3,>=0.2.9->langchain-google-genai) (2024.7.4)\n"
     ]
    }
   ],
   "source": [
    "!pip install langchain-google-genai"
   ]
  },
  {
   "cell_type": "markdown",
   "id": "7b5ce885-3ac9-4051-8001-ebaf9978c170",
   "metadata": {},
   "source": [
    "# Trying Langchain with Gemini\n",
    "\n",
    "> Without any props in the Google provider\n",
    "\n",
    "> Importing the OS to provide the environment variables"
   ]
  },
  {
   "cell_type": "code",
   "execution_count": 2,
   "id": "3002b3b7-5533-486c-8e07-8f5ee7e64ab7",
   "metadata": {},
   "outputs": [],
   "source": [
    "from langchain_google_genai import ChatGoogleGenerativeAI\n",
    "import os"
   ]
  },
  {
   "cell_type": "markdown",
   "id": "3cd3f618-0ec2-4fb8-a530-b41c10169302",
   "metadata": {},
   "source": [
    "> Inserting the Gemini api directly"
   ]
  },
  {
   "cell_type": "code",
   "execution_count": 3,
   "id": "f44c53b1-4d47-4bcd-84ae-4cce07d5a74d",
   "metadata": {},
   "outputs": [],
   "source": [
    "GOOGLE_API_KEY = os.environ[\"GOOGLE_API_KEY\"]"
   ]
  },
  {
   "cell_type": "code",
   "execution_count": 35,
   "id": "3bbccbf1-5bdd-4aa5-8019-54e9ac489fc7",
   "metadata": {},
   "outputs": [],
   "source": [
    "model_name = \"gemini-pro\"\n",
    "llm = ChatGoogleGenerativeAI(model=model_name, temperature=0)"
   ]
  },
  {
   "cell_type": "markdown",
   "id": "f310f5e5-688a-46df-bd15-bd38152a2e82",
   "metadata": {},
   "source": [
    "> trying to parse pdf directly"
   ]
  },
  {
   "cell_type": "code",
   "execution_count": 4,
   "id": "70fd3a1d-cd0e-49c0-b863-36c71563c6ab",
   "metadata": {},
   "outputs": [
    {
     "name": "stdout",
     "output_type": "stream",
     "text": [
      "Requirement already satisfied: pypdf in ./sys/lib/python3.11/site-packages (4.2.0)\n",
      "Requirement already satisfied: langchain_community in ./sys/lib/python3.11/site-packages (0.2.6)\n",
      "Requirement already satisfied: PyYAML>=5.3 in ./sys/lib/python3.11/site-packages (from langchain_community) (6.0.1)\n",
      "Requirement already satisfied: SQLAlchemy<3,>=1.4 in ./sys/lib/python3.11/site-packages (from langchain_community) (2.0.31)\n",
      "Requirement already satisfied: aiohttp<4.0.0,>=3.8.3 in ./sys/lib/python3.11/site-packages (from langchain_community) (3.9.5)\n",
      "Requirement already satisfied: dataclasses-json<0.7,>=0.5.7 in ./sys/lib/python3.11/site-packages (from langchain_community) (0.6.7)\n",
      "Requirement already satisfied: langchain<0.3.0,>=0.2.6 in ./sys/lib/python3.11/site-packages (from langchain_community) (0.2.6)\n",
      "Requirement already satisfied: langchain-core<0.3.0,>=0.2.10 in ./sys/lib/python3.11/site-packages (from langchain_community) (0.2.11)\n",
      "Requirement already satisfied: langsmith<0.2.0,>=0.1.0 in ./sys/lib/python3.11/site-packages (from langchain_community) (0.1.83)\n",
      "Requirement already satisfied: numpy<2,>=1 in ./sys/lib/python3.11/site-packages (from langchain_community) (1.26.4)\n",
      "Requirement already satisfied: requests<3,>=2 in ./sys/lib/python3.11/site-packages (from langchain_community) (2.32.3)\n",
      "Requirement already satisfied: tenacity!=8.4.0,<9.0.0,>=8.1.0 in ./sys/lib/python3.11/site-packages (from langchain_community) (8.5.0)\n",
      "Requirement already satisfied: aiosignal>=1.1.2 in ./sys/lib/python3.11/site-packages (from aiohttp<4.0.0,>=3.8.3->langchain_community) (1.3.1)\n",
      "Requirement already satisfied: attrs>=17.3.0 in ./sys/lib/python3.11/site-packages (from aiohttp<4.0.0,>=3.8.3->langchain_community) (23.2.0)\n",
      "Requirement already satisfied: frozenlist>=1.1.1 in ./sys/lib/python3.11/site-packages (from aiohttp<4.0.0,>=3.8.3->langchain_community) (1.4.1)\n",
      "Requirement already satisfied: multidict<7.0,>=4.5 in ./sys/lib/python3.11/site-packages (from aiohttp<4.0.0,>=3.8.3->langchain_community) (6.0.5)\n",
      "Requirement already satisfied: yarl<2.0,>=1.0 in ./sys/lib/python3.11/site-packages (from aiohttp<4.0.0,>=3.8.3->langchain_community) (1.9.4)\n",
      "Requirement already satisfied: marshmallow<4.0.0,>=3.18.0 in ./sys/lib/python3.11/site-packages (from dataclasses-json<0.7,>=0.5.7->langchain_community) (3.21.3)\n",
      "Requirement already satisfied: typing-inspect<1,>=0.4.0 in ./sys/lib/python3.11/site-packages (from dataclasses-json<0.7,>=0.5.7->langchain_community) (0.9.0)\n",
      "Requirement already satisfied: langchain-text-splitters<0.3.0,>=0.2.0 in ./sys/lib/python3.11/site-packages (from langchain<0.3.0,>=0.2.6->langchain_community) (0.2.2)\n",
      "Requirement already satisfied: pydantic<3,>=1 in ./sys/lib/python3.11/site-packages (from langchain<0.3.0,>=0.2.6->langchain_community) (2.8.2)\n",
      "Requirement already satisfied: jsonpatch<2.0,>=1.33 in ./sys/lib/python3.11/site-packages (from langchain-core<0.3.0,>=0.2.10->langchain_community) (1.33)\n",
      "Requirement already satisfied: packaging<25,>=23.2 in ./sys/lib/python3.11/site-packages (from langchain-core<0.3.0,>=0.2.10->langchain_community) (24.1)\n",
      "Requirement already satisfied: orjson<4.0.0,>=3.9.14 in ./sys/lib/python3.11/site-packages (from langsmith<0.2.0,>=0.1.0->langchain_community) (3.10.6)\n",
      "Requirement already satisfied: charset-normalizer<4,>=2 in ./sys/lib/python3.11/site-packages (from requests<3,>=2->langchain_community) (3.3.2)\n",
      "Requirement already satisfied: idna<4,>=2.5 in ./sys/lib/python3.11/site-packages (from requests<3,>=2->langchain_community) (3.7)\n",
      "Requirement already satisfied: urllib3<3,>=1.21.1 in ./sys/lib/python3.11/site-packages (from requests<3,>=2->langchain_community) (2.2.2)\n",
      "Requirement already satisfied: certifi>=2017.4.17 in ./sys/lib/python3.11/site-packages (from requests<3,>=2->langchain_community) (2024.7.4)\n",
      "Requirement already satisfied: typing-extensions>=4.6.0 in ./sys/lib/python3.11/site-packages (from SQLAlchemy<3,>=1.4->langchain_community) (4.12.2)\n",
      "Requirement already satisfied: greenlet!=0.4.17 in ./sys/lib/python3.11/site-packages (from SQLAlchemy<3,>=1.4->langchain_community) (3.0.3)\n",
      "Requirement already satisfied: jsonpointer>=1.9 in ./sys/lib/python3.11/site-packages (from jsonpatch<2.0,>=1.33->langchain-core<0.3.0,>=0.2.10->langchain_community) (3.0.0)\n",
      "Requirement already satisfied: annotated-types>=0.4.0 in ./sys/lib/python3.11/site-packages (from pydantic<3,>=1->langchain<0.3.0,>=0.2.6->langchain_community) (0.7.0)\n",
      "Requirement already satisfied: pydantic-core==2.20.1 in ./sys/lib/python3.11/site-packages (from pydantic<3,>=1->langchain<0.3.0,>=0.2.6->langchain_community) (2.20.1)\n",
      "Requirement already satisfied: mypy-extensions>=0.3.0 in ./sys/lib/python3.11/site-packages (from typing-inspect<1,>=0.4.0->dataclasses-json<0.7,>=0.5.7->langchain_community) (1.0.0)\n"
     ]
    }
   ],
   "source": [
    "!pip install pypdf\n",
    "!pip install langchain_community"
   ]
  },
  {
   "cell_type": "code",
   "execution_count": 22,
   "id": "0c562ee6-f807-449c-a9d0-153d43b02e05",
   "metadata": {},
   "outputs": [],
   "source": [
    "from langchain_community.document_loaders import PyPDFLoader\n",
    "from langchain_core.prompts import PromptTemplate\n",
    "import json"
   ]
  },
  {
   "cell_type": "code",
   "execution_count": 33,
   "id": "232d7dc0-de4d-42dc-9d10-33acde261e0b",
   "metadata": {},
   "outputs": [
    {
     "data": {
      "text/plain": [
       "'Name: Mohamed Dhia Kassab\\nGithub: github.com/meddhiaka'"
      ]
     },
     "execution_count": 33,
     "metadata": {},
     "output_type": "execute_result"
    }
   ],
   "source": [
    "loader = PyPDFLoader(\"docs/test.pdf\")\n",
    "pages = loader.load_and_split()\n",
    "\n",
    "template = \"\"\"\n",
    "Given this description: \n",
    "{content}\n",
    "I want to know the name and the github of the user.\n",
    "\"\"\"\n",
    "\n",
    "qs = template.format(content=pages[0].page_content)\n",
    "\n",
    "chain = llm\n",
    "\n",
    "chain.invoke(qs).content"
   ]
  },
  {
   "cell_type": "code",
   "execution_count": 30,
   "id": "a8922aef-31bf-4cb6-8597-f30d8ec0e80f",
   "metadata": {},
   "outputs": [],
   "source": [
    "from langchain_core.output_parsers import JsonOutputParser\n",
    "from langchain_core.pydantic_v1 import BaseModel, Field\n",
    "\n",
    "class JsonTemplate(BaseModel):\n",
    "    name: str = Field(description = \"name of the person\")\n",
    "    github_link: str = Field(description = \"github of the person\")"
   ]
  },
  {
   "cell_type": "code",
   "execution_count": 31,
   "id": "71d3c933-8f86-4b76-acb2-44d9ee696515",
   "metadata": {},
   "outputs": [],
   "source": [
    "parser = JsonOutputParser(pydantic_object=JsonTemplate)\n",
    "\n",
    "template = \"\"\"\n",
    "Please provide information about a person in JSON format.\n",
    "{format_instructions}\n",
    "Query: {query}\n",
    "\"\"\"\n",
    "prompt = PromptTemplate(\n",
    "    template=template,\n",
    "    input_variables=[\"query\"],\n",
    "    partial_variables={\"format_instructions\": parser.get_format_instructions()}\n",
    ")\n",
    "\n",
    "\n",
    "chain = prompt | llm | parser\n",
    "\n",
    "str_dict = chain.invoke({\"query\": qs})\n",
    "\n",
    "json.dumps(str_dict, indent=4)\n"
   ]
  },
  {
   "cell_type": "code",
   "execution_count": 34,
   "id": "a98038e0-8844-437b-9e83-5e70f579a0cf",
   "metadata": {},
   "outputs": [
    {
     "data": {
      "text/plain": [
       "{'name': 'Mohamed Dhia Kassab', 'github_link': 'github.com/meddhiaka'}"
      ]
     },
     "execution_count": 34,
     "metadata": {},
     "output_type": "execute_result"
    }
   ],
   "source": [
    "with open('data.json', 'w') as f:\n",
    "    json.dump(str_dict, f)\n",
    "\n",
    "str_dict"
   ]
  }
 ],
 "metadata": {
  "kernelspec": {
   "display_name": "Python 3 (ipykernel)",
   "language": "python",
   "name": "python3"
  },
  "language_info": {
   "codemirror_mode": {
    "name": "ipython",
    "version": 3
   },
   "file_extension": ".py",
   "mimetype": "text/x-python",
   "name": "python",
   "nbconvert_exporter": "python",
   "pygments_lexer": "ipython3",
   "version": "3.11.2"
  }
 },
 "nbformat": 4,
 "nbformat_minor": 5
}
